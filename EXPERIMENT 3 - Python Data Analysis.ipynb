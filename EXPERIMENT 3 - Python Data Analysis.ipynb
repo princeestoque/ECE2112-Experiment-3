{
 "cells": [
  {
   "cell_type": "markdown",
   "id": "4036b63b-0a38-4605-b047-bf8c0d1f8ee0",
   "metadata": {},
   "source": [
    "## Problem 1"
   ]
  },
  {
   "cell_type": "code",
   "execution_count": null,
   "id": "599ff0a2-f223-4bdb-a2c9-147d877a1492",
   "metadata": {},
   "outputs": [],
   "source": [
    "import pandas as pd # Import the pandas library with the alias pd\n",
    "\n",
    "pd.set_option('display.width',1000) # Included in order to avoid the line break in large dataframe\n",
    "\n",
    "# Load the CSV file into a DataFrame named cars\n",
    "cars = pd.read_csv(\"cars.csv\")\n",
    "\n",
    "# Display the first five rows\n",
    "print(\"First 5 rows:\")\n",
    "print(cars.head(5))\n",
    "\n",
    "# Display the last five rows\n",
    "print(\"\\nLast 5 rows:\")\n",
    "print(cars.tail(5))"
   ]
  },
  {
   "cell_type": "markdown",
   "id": "fbd258b2-0d18-43d5-b45f-5b6d4996b1c0",
   "metadata": {},
   "source": [
    "## Problem 2"
   ]
  },
  {
   "cell_type": "code",
   "execution_count": null,
   "id": "204ab667-f2b9-4984-b87e-73aa5460d352",
   "metadata": {},
   "outputs": [],
   "source": [
    "import pandas as pd # Import the pandas library with the alias pd\n",
    "\n",
    "pd.set_option('display.width',1000) # Included in order to avoid the line break in large dataframe\n",
    "\n",
    "# Load the CSV file into a DataFrame named cars\n",
    "cars = pd.read_csv('cars.csv')\n",
    "\n",
    "# a. Display the first five rows with odd-numbered columns\n",
    "first_five_odd_columns = cars.iloc[:5, 1::2]\n",
    "print(\"First five rows with odd-numbered columns:\")\n",
    "print(first_five_odd_columns)\n",
    "\n",
    "# b. Display the row that contains the Model of Mazda RX4\n",
    "mazda_rx4_row = cars.loc[cars['Model']=='Mazda RX4']\n",
    "print(\"\\nRow containing Mazda RX4:\")\n",
    "print(mazda_rx4_row)\n",
    "\n",
    "# c. Display how many cylinders (cyl) the car model Camaro Z28 have\n",
    "camaro_z28_cyl = cars.loc[(cars['Model']=='Camaro Z28'), ['cyl']]\n",
    "print(\"\\nNumber of cyl in Camaro Z28:\")\n",
    "print(camaro_z28_cyl)\n",
    "\n",
    "# d. Display how many cylinders (cyl) and what gear type (gear) the selected three car models have\n",
    "selected_car_1 = cars.loc[(cars['Model']=='Mazda RX4 Wag'), ['cyl', 'gear']]\n",
    "selected_car_2 = cars.loc[(cars['Model']=='Ford Pantera L'), ['cyl', 'gear']]\n",
    "selected_car_3 = cars.loc[(cars['Model']=='Honda Civic'), ['cyl', 'gear']]\n",
    "print(\"\\nNumber of cyl and gear in selected cars:\")\n",
    "print(\"Mazda RX4 Wag\")\n",
    "print(selected_car_1)\n",
    "print(\"\\nFord Pantera L\")\n",
    "print(selected_car_2)\n",
    "print(\"\\nHonda Civic\")\n",
    "print(selected_car_3)"
   ]
  }
 ],
 "metadata": {
  "kernelspec": {
   "display_name": "Python 3 (ipykernel)",
   "language": "python",
   "name": "python3"
  },
  "language_info": {
   "codemirror_mode": {
    "name": "ipython",
    "version": 3
   },
   "file_extension": ".py",
   "mimetype": "text/x-python",
   "name": "python",
   "nbconvert_exporter": "python",
   "pygments_lexer": "ipython3",
   "version": "3.12.4"
  }
 },
 "nbformat": 4,
 "nbformat_minor": 5
}
